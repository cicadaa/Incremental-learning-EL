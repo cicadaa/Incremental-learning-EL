{
 "metadata": {
  "language_info": {
   "codemirror_mode": {
    "name": "ipython",
    "version": 3
   },
   "file_extension": ".py",
   "mimetype": "text/x-python",
   "name": "python",
   "nbconvert_exporter": "python",
   "pygments_lexer": "ipython3",
   "version": "3.8.4-candidate"
  },
  "orig_nbformat": 2,
  "kernelspec": {
   "name": "python3",
   "display_name": "Python 3.8.4 64-bit ('thesis01')",
   "metadata": {
    "interpreter": {
     "hash": "bd2fac74c064f26423004e84ad8827f9102953a4441ae03030e0f7dfebed9021"
    }
   }
  }
 },
 "nbformat": 4,
 "nbformat_minor": 2,
 "cells": [
  {
   "cell_type": "code",
   "execution_count": 33,
   "metadata": {},
   "outputs": [],
   "source": [
    "import json\n",
    "from datetime import date, timedelta\n",
    "import psycopg2\n",
    "import pandas as pd\n",
    "import os\n",
    " "
   ]
  },
  {
   "cell_type": "code",
   "execution_count": 21,
   "metadata": {},
   "outputs": [],
   "source": [
    "#create new table\n",
    "conn = psycopg2.connect(host=\"localhost\", port = 5432, user=\"postgres\", password=\"read\")\n",
    "cur = conn.cursor()\n",
    "cur.execute(\"\"\"\n",
    "CREATE TABLE consumption(\n",
    "id SERIAL, \n",
    "Dato DATE, \n",
    "Time INT, \n",
    "InstallationsID INT, \n",
    "MeterDescribe VARCHAR, \n",
    "MeterType VARCHAR, \n",
    "MeterValue FLOAT(8), \n",
    "ProduktkomponentType VARCHAR(255), \n",
    "Datetime timestamptz, \n",
    "FullAdresses VARCHAR(255), \n",
    "PRIMARY KEY (id) )\n",
    "\"\"\")\n",
    "conn.commit()"
   ]
  },
  {
   "cell_type": "code",
   "execution_count": 54,
   "metadata": {},
   "outputs": [
    {
     "output_type": "stream",
     "name": "stdout",
     "text": [
      "tref01.csv\n",
      "tref02.csv\n",
      "tref03.csv\n",
      "tref04.csv\n",
      "tref05.csv\n",
      "tref06.csv\n",
      "tref07.csv\n",
      "tref08.csv\n"
     ]
    }
   ],
   "source": [
    "#copy data to database\n",
    "conn = psycopg2.connect(host=\"localhost\", port = 5432, user=\"postgres\", password=\"read\")\n",
    "cur = conn.cursor()\n",
    "\n",
    "path = 'data/2020/monthly/'\n",
    "files = os.listdir(path)\n",
    "\n",
    "for index, file in enumerate(files):\n",
    "    print(file)\n",
    "    with open(os.path.join(path,file), 'r') as f:\n",
    "        next(f) # Skip the header row.\n",
    "        cur.copy_from(f, 'consumption', sep=',')\n",
    "conn.commit()"
   ]
  },
  {
   "cell_type": "code",
   "execution_count": 53,
   "metadata": {},
   "outputs": [],
   "source": [
    "#refomat csv file\n",
    "path = 'data/2020/monthly/'\n",
    "files = os.listdir(path)\n",
    "for index, file in enumerate(files):\n",
    "    df = pd.read_csv(os.path.join(path,file))\n",
    "    df = df.drop(columns=['Unnamed: 0','Unnamed: 0.1'])\n",
    "    df.to_csv(os.path.join(path,file))"
   ]
  },
  {
   "cell_type": "code",
   "execution_count": 52,
   "metadata": {},
   "outputs": [
    {
     "output_type": "execute_result",
     "data": {
      "text/plain": [
       "   Unnamed: 0  Unnamed: 0.1                 Dato  Time  InstallationsID  \\\n",
       "0           0             0  2020-01-09 01:00:00  1500          1101863   \n",
       "1           1             1  2020-01-13 01:00:00  1800          1101863   \n",
       "2           2             2  2020-01-22 01:00:00  1500          1101863   \n",
       "3           3             3  2020-01-26 01:00:00  1400          1101863   \n",
       "4           4             4  2020-01-28 01:00:00  1100          1101863   \n",
       "\n",
       "  MeterDescribe        MeterType  MeterValue ProduktkomponentType  \\\n",
       "0      EL måler  Tidsserie-Va-01       0.002                 VAND   \n",
       "1      EL måler  Tidsserie-Va-01       0.002                 VAND   \n",
       "2      EL måler  Tidsserie-Va-01       0.002                 VAND   \n",
       "3      EL måler  Tidsserie-Va-01       0.002                 VAND   \n",
       "4      EL måler  Tidsserie-Va-01       0.002                 VAND   \n",
       "\n",
       "              Datetime            FullAdresses  \n",
       "0  2020-01-09 16:00:00  Ravnsgårdsvej 107 7000  \n",
       "1  2020-01-13 19:00:00  Ravnsgårdsvej 107 7000  \n",
       "2  2020-01-22 16:00:00  Ravnsgårdsvej 107 7000  \n",
       "3  2020-01-26 15:00:00  Ravnsgårdsvej 107 7000  \n",
       "4  2020-01-28 12:00:00  Ravnsgårdsvej 107 7000  "
      ],
      "text/html": "<div>\n<style scoped>\n    .dataframe tbody tr th:only-of-type {\n        vertical-align: middle;\n    }\n\n    .dataframe tbody tr th {\n        vertical-align: top;\n    }\n\n    .dataframe thead th {\n        text-align: right;\n    }\n</style>\n<table border=\"1\" class=\"dataframe\">\n  <thead>\n    <tr style=\"text-align: right;\">\n      <th></th>\n      <th>Unnamed: 0</th>\n      <th>Unnamed: 0.1</th>\n      <th>Dato</th>\n      <th>Time</th>\n      <th>InstallationsID</th>\n      <th>MeterDescribe</th>\n      <th>MeterType</th>\n      <th>MeterValue</th>\n      <th>ProduktkomponentType</th>\n      <th>Datetime</th>\n      <th>FullAdresses</th>\n    </tr>\n  </thead>\n  <tbody>\n    <tr>\n      <th>0</th>\n      <td>0</td>\n      <td>0</td>\n      <td>2020-01-09 01:00:00</td>\n      <td>1500</td>\n      <td>1101863</td>\n      <td>EL måler</td>\n      <td>Tidsserie-Va-01</td>\n      <td>0.002</td>\n      <td>VAND</td>\n      <td>2020-01-09 16:00:00</td>\n      <td>Ravnsgårdsvej 107 7000</td>\n    </tr>\n    <tr>\n      <th>1</th>\n      <td>1</td>\n      <td>1</td>\n      <td>2020-01-13 01:00:00</td>\n      <td>1800</td>\n      <td>1101863</td>\n      <td>EL måler</td>\n      <td>Tidsserie-Va-01</td>\n      <td>0.002</td>\n      <td>VAND</td>\n      <td>2020-01-13 19:00:00</td>\n      <td>Ravnsgårdsvej 107 7000</td>\n    </tr>\n    <tr>\n      <th>2</th>\n      <td>2</td>\n      <td>2</td>\n      <td>2020-01-22 01:00:00</td>\n      <td>1500</td>\n      <td>1101863</td>\n      <td>EL måler</td>\n      <td>Tidsserie-Va-01</td>\n      <td>0.002</td>\n      <td>VAND</td>\n      <td>2020-01-22 16:00:00</td>\n      <td>Ravnsgårdsvej 107 7000</td>\n    </tr>\n    <tr>\n      <th>3</th>\n      <td>3</td>\n      <td>3</td>\n      <td>2020-01-26 01:00:00</td>\n      <td>1400</td>\n      <td>1101863</td>\n      <td>EL måler</td>\n      <td>Tidsserie-Va-01</td>\n      <td>0.002</td>\n      <td>VAND</td>\n      <td>2020-01-26 15:00:00</td>\n      <td>Ravnsgårdsvej 107 7000</td>\n    </tr>\n    <tr>\n      <th>4</th>\n      <td>4</td>\n      <td>4</td>\n      <td>2020-01-28 01:00:00</td>\n      <td>1100</td>\n      <td>1101863</td>\n      <td>EL måler</td>\n      <td>Tidsserie-Va-01</td>\n      <td>0.002</td>\n      <td>VAND</td>\n      <td>2020-01-28 12:00:00</td>\n      <td>Ravnsgårdsvej 107 7000</td>\n    </tr>\n  </tbody>\n</table>\n</div>"
     },
     "metadata": {},
     "execution_count": 52
    }
   ],
   "source": [
    "df = pd.read_csv('data/2020/monthly/tref01.csv')\n",
    "df.head()"
   ]
  }
 ]
}