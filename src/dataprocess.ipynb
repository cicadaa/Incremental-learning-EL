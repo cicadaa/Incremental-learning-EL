{
 "metadata": {
  "language_info": {
   "codemirror_mode": {
    "name": "ipython",
    "version": 3
   },
   "file_extension": ".py",
   "mimetype": "text/x-python",
   "name": "python",
   "nbconvert_exporter": "python",
   "pygments_lexer": "ipython3",
   "version": "3.8.4"
  },
  "orig_nbformat": 2,
  "kernelspec": {
   "name": "pythonjvsc74a57bd025747ecf440d9432ac99c9b9e9b6da36a532ce26e5114e1515f71dad76afa3ba",
   "display_name": "Python 3.8.4 64-bit ('thesis01': virtualenvwrapper)"
  }
 },
 "nbformat": 4,
 "nbformat_minor": 2,
 "cells": [
  {
   "cell_type": "code",
   "execution_count": 1,
   "metadata": {},
   "outputs": [],
   "source": [
    "import pandas as pd"
   ]
  },
  {
   "cell_type": "code",
   "execution_count": 59,
   "metadata": {},
   "outputs": [],
   "source": [
    "df = pd.read_csv('origin.csv')\n",
    "del df['Unnamed: 0.1']\n",
    "del df['Unnamed: 0']"
   ]
  },
  {
   "cell_type": "code",
   "execution_count": 60,
   "metadata": {},
   "outputs": [
    {
     "output_type": "execute_result",
     "data": {
      "text/plain": [
       "                datetime       meter  weekday  hourday  yearday\n",
       "0  2019-01-01 00:00:00.0  317.547001        0        1        1\n",
       "1  2019-01-01 01:00:00.0  300.815000        1        1        1\n",
       "2  2019-01-01 02:00:00.0  270.868000        2        1        1\n",
       "3  2019-01-01 03:00:00.0  267.668000        3        1        1\n",
       "4  2019-01-01 04:00:00.0  249.396001        4        1        1"
      ],
      "text/html": "<div>\n<style scoped>\n    .dataframe tbody tr th:only-of-type {\n        vertical-align: middle;\n    }\n\n    .dataframe tbody tr th {\n        vertical-align: top;\n    }\n\n    .dataframe thead th {\n        text-align: right;\n    }\n</style>\n<table border=\"1\" class=\"dataframe\">\n  <thead>\n    <tr style=\"text-align: right;\">\n      <th></th>\n      <th>datetime</th>\n      <th>meter</th>\n      <th>weekday</th>\n      <th>hourday</th>\n      <th>yearday</th>\n    </tr>\n  </thead>\n  <tbody>\n    <tr>\n      <th>0</th>\n      <td>2019-01-01 00:00:00.0</td>\n      <td>317.547001</td>\n      <td>0</td>\n      <td>1</td>\n      <td>1</td>\n    </tr>\n    <tr>\n      <th>1</th>\n      <td>2019-01-01 01:00:00.0</td>\n      <td>300.815000</td>\n      <td>1</td>\n      <td>1</td>\n      <td>1</td>\n    </tr>\n    <tr>\n      <th>2</th>\n      <td>2019-01-01 02:00:00.0</td>\n      <td>270.868000</td>\n      <td>2</td>\n      <td>1</td>\n      <td>1</td>\n    </tr>\n    <tr>\n      <th>3</th>\n      <td>2019-01-01 03:00:00.0</td>\n      <td>267.668000</td>\n      <td>3</td>\n      <td>1</td>\n      <td>1</td>\n    </tr>\n    <tr>\n      <th>4</th>\n      <td>2019-01-01 04:00:00.0</td>\n      <td>249.396001</td>\n      <td>4</td>\n      <td>1</td>\n      <td>1</td>\n    </tr>\n  </tbody>\n</table>\n</div>"
     },
     "metadata": {},
     "execution_count": 60
    }
   ],
   "source": [
    "df['hourday'] = pd.to_datetime(df['hour'], errors='coerce').dt.hour\n",
    "df['weekday'] = pd.to_datetime(df['hour'], errors='coerce').dt.dayofweek\n",
    "df['yearday'] = pd.to_datetime(df['hour'], errors='coerce').dt.dayofyear\n",
    "\n",
    "df.columns =['datetime', 'meter', 'weekday', 'hourday', 'yearday']\n",
    "df.head()\n"
   ]
  },
  {
   "cell_type": "code",
   "execution_count": 61,
   "metadata": {},
   "outputs": [],
   "source": [
    "df['datetime'] = pd.to_datetime(df['datetime'], errors='coerce').dt.strftime('%Y-%m-%d %H:%M:%S')"
   ]
  },
  {
   "cell_type": "code",
   "execution_count": 62,
   "metadata": {},
   "outputs": [
    {
     "output_type": "execute_result",
     "data": {
      "text/plain": [
       "'2019-01-01 00:00:00'"
      ]
     },
     "metadata": {},
     "execution_count": 62
    }
   ],
   "source": [
    "temp = pd.read_csv('temp.csv')\n",
    "temp['datetime'][0]\n"
   ]
  },
  {
   "cell_type": "code",
   "execution_count": 79,
   "metadata": {},
   "outputs": [
    {
     "output_type": "execute_result",
     "data": {
      "text/plain": [
       "17448"
      ]
     },
     "metadata": {},
     "execution_count": 79
    }
   ],
   "source": [
    "df_full = df.merge(temp, on='datetime', how='left')\n",
    "len(df_full)"
   ]
  },
  {
   "cell_type": "code",
   "execution_count": 81,
   "metadata": {},
   "outputs": [
    {
     "output_type": "execute_result",
     "data": {
      "text/plain": [
       "17448"
      ]
     },
     "metadata": {},
     "execution_count": 81
    }
   ],
   "source": [
    "len(df_full.dropna())"
   ]
  },
  {
   "cell_type": "code",
   "execution_count": 80,
   "metadata": {},
   "outputs": [],
   "source": [
    "df_full = df_full.fillna(method='ffill')"
   ]
  },
  {
   "cell_type": "code",
   "execution_count": 66,
   "metadata": {},
   "outputs": [],
   "source": [
    "df_full['datetime'] = pd.to_datetime(df_full['datetime'])"
   ]
  },
  {
   "cell_type": "code",
   "execution_count": 76,
   "metadata": {},
   "outputs": [],
   "source": [
    "t = []\n",
    "for index, row in df_full.iterrows():\n",
    "    if row['temp'] == 'NaN': \n",
    "        print('na')"
   ]
  },
  {
   "cell_type": "code",
   "execution_count": 82,
   "metadata": {},
   "outputs": [],
   "source": [
    "df_full.to_csv('data_accurateTemp.csv')"
   ]
  },
  {
   "cell_type": "code",
   "execution_count": 83,
   "metadata": {},
   "outputs": [
    {
     "output_type": "execute_result",
     "data": {
      "text/plain": [
       "                  datetime       meter  weekday  hourday  yearday  temp\n",
       "0      2019-01-01 00:00:00  317.547001        0        1        1   7.7\n",
       "1      2019-01-01 01:00:00  300.815000        1        1        1   7.9\n",
       "2      2019-01-01 02:00:00  270.868000        2        1        1   7.9\n",
       "3      2019-01-01 03:00:00  267.668000        3        1        1   7.9\n",
       "4      2019-01-01 04:00:00  249.396001        4        1        1   8.0\n",
       "...                    ...         ...      ...      ...      ...   ...\n",
       "17443  2020-12-30 19:00:00  437.727999       19        2      365   4.9\n",
       "17444  2020-12-30 20:00:00  394.090000       20        2      365   4.9\n",
       "17445  2020-12-30 21:00:00  372.347000       21        2      365   4.7\n",
       "17446  2020-12-30 22:00:00  346.229000       22        2      365   4.7\n",
       "17447  2020-12-30 23:00:00  319.109000       23        2      365   5.0\n",
       "\n",
       "[17448 rows x 6 columns]"
      ],
      "text/html": "<div>\n<style scoped>\n    .dataframe tbody tr th:only-of-type {\n        vertical-align: middle;\n    }\n\n    .dataframe tbody tr th {\n        vertical-align: top;\n    }\n\n    .dataframe thead th {\n        text-align: right;\n    }\n</style>\n<table border=\"1\" class=\"dataframe\">\n  <thead>\n    <tr style=\"text-align: right;\">\n      <th></th>\n      <th>datetime</th>\n      <th>meter</th>\n      <th>weekday</th>\n      <th>hourday</th>\n      <th>yearday</th>\n      <th>temp</th>\n    </tr>\n  </thead>\n  <tbody>\n    <tr>\n      <th>0</th>\n      <td>2019-01-01 00:00:00</td>\n      <td>317.547001</td>\n      <td>0</td>\n      <td>1</td>\n      <td>1</td>\n      <td>7.7</td>\n    </tr>\n    <tr>\n      <th>1</th>\n      <td>2019-01-01 01:00:00</td>\n      <td>300.815000</td>\n      <td>1</td>\n      <td>1</td>\n      <td>1</td>\n      <td>7.9</td>\n    </tr>\n    <tr>\n      <th>2</th>\n      <td>2019-01-01 02:00:00</td>\n      <td>270.868000</td>\n      <td>2</td>\n      <td>1</td>\n      <td>1</td>\n      <td>7.9</td>\n    </tr>\n    <tr>\n      <th>3</th>\n      <td>2019-01-01 03:00:00</td>\n      <td>267.668000</td>\n      <td>3</td>\n      <td>1</td>\n      <td>1</td>\n      <td>7.9</td>\n    </tr>\n    <tr>\n      <th>4</th>\n      <td>2019-01-01 04:00:00</td>\n      <td>249.396001</td>\n      <td>4</td>\n      <td>1</td>\n      <td>1</td>\n      <td>8.0</td>\n    </tr>\n    <tr>\n      <th>...</th>\n      <td>...</td>\n      <td>...</td>\n      <td>...</td>\n      <td>...</td>\n      <td>...</td>\n      <td>...</td>\n    </tr>\n    <tr>\n      <th>17443</th>\n      <td>2020-12-30 19:00:00</td>\n      <td>437.727999</td>\n      <td>19</td>\n      <td>2</td>\n      <td>365</td>\n      <td>4.9</td>\n    </tr>\n    <tr>\n      <th>17444</th>\n      <td>2020-12-30 20:00:00</td>\n      <td>394.090000</td>\n      <td>20</td>\n      <td>2</td>\n      <td>365</td>\n      <td>4.9</td>\n    </tr>\n    <tr>\n      <th>17445</th>\n      <td>2020-12-30 21:00:00</td>\n      <td>372.347000</td>\n      <td>21</td>\n      <td>2</td>\n      <td>365</td>\n      <td>4.7</td>\n    </tr>\n    <tr>\n      <th>17446</th>\n      <td>2020-12-30 22:00:00</td>\n      <td>346.229000</td>\n      <td>22</td>\n      <td>2</td>\n      <td>365</td>\n      <td>4.7</td>\n    </tr>\n    <tr>\n      <th>17447</th>\n      <td>2020-12-30 23:00:00</td>\n      <td>319.109000</td>\n      <td>23</td>\n      <td>2</td>\n      <td>365</td>\n      <td>5.0</td>\n    </tr>\n  </tbody>\n</table>\n<p>17448 rows × 6 columns</p>\n</div>"
     },
     "metadata": {},
     "execution_count": 83
    }
   ],
   "source": [
    "df_full"
   ]
  },
  {
   "cell_type": "code",
   "execution_count": null,
   "metadata": {},
   "outputs": [],
   "source": []
  }
 ]
}