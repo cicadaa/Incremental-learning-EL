{
 "metadata": {
  "language_info": {
   "codemirror_mode": {
    "name": "ipython",
    "version": 3
   },
   "file_extension": ".py",
   "mimetype": "text/x-python",
   "name": "python",
   "nbconvert_exporter": "python",
   "pygments_lexer": "ipython3",
   "version": "3.8.4-candidate"
  },
  "orig_nbformat": 2,
  "kernelspec": {
   "name": "python3",
   "display_name": "Python 3.8.4 64-bit ('thesis')",
   "metadata": {
    "interpreter": {
     "hash": "b5daea579ca929fda690b582fa25a596b00845c00ae4901804c091cad951253b"
    }
   }
  }
 },
 "nbformat": 4,
 "nbformat_minor": 2,
 "cells": [
  {
   "cell_type": "code",
   "execution_count": 1,
   "metadata": {},
   "outputs": [],
   "source": [
    "import json\n",
    "from datetime import date, timedelta\n",
    "from functools import reduce\n",
    "from pyspark.sql import SparkSession\n",
    "from pyspark.sql import DataFrame\n",
    "from pyspark.sql.functions import lpad, concat, col, lit, to_timestamp, udf, create_map\n",
    "from pyspark.sql.types import IntegerType\n",
    "from itertools import chain\n",
    "import pandas as pd\n",
    "import os\n",
    " "
   ]
  },
  {
   "cell_type": "code",
   "execution_count": 2,
   "metadata": {},
   "outputs": [],
   "source": [
    "#rename columns\n",
    "def renameDataframe(df):\n",
    "    df = df.withColumnRenamed(\"Time-Kvarter\",\"Time\") \\\n",
    "        .withColumnRenamed(\"MålerVærdier\", \"MeterValue\") \\\n",
    "        .withColumnRenamed(\"MålerEgenskab\", \"MeterType\") \\\n",
    "        .withColumnRenamed(\"MålerArtBeskrivelse\", \"MeterDescribe\") \n",
    "    return df\n",
    "\n",
    "#preprocess dataframe\n",
    "def processDataframe(df):\n",
    "    df = df.withColumn(\"MålerVærdier\", df[\"MålerVærdier\"].cast(\"float\")) \\\n",
    "        .withColumn(\"Time-Kvarter\", lpad(df['Time-Kvarter'],4,'0')) \\\n",
    "        .withColumn('Datetime', concat(col('Dato'),lit('-'),col('Time-Kvarter'))) \\\n",
    "        .withColumn('FullAdresses', concat(col('InstallationAdresse'),lit(' '),col('InstallationPostNr'))) \\\n",
    "        .withColumn(\"Datetime\", to_timestamp(\"Datetime\", \"yyyy-MM-dd-HHmm\")) \\\n",
    "        .withColumn(\"Dato\", to_timestamp(\"Dato\", \"yyyy-MM-dd\")) \n",
    "    # df = df.drop(\"Dato\")\n",
    "    df = df.drop(\"Dataset\")\n",
    "    df = df.drop(\"InstallationAdresse\")\n",
    "    df = df.drop(\"InstallationPostNr\")\n",
    "    df = df.drop(\"MeterRegister\")\n",
    "    return df"
   ]
  },
  {
   "cell_type": "code",
   "execution_count": 14,
   "metadata": {},
   "outputs": [],
   "source": [
    "#init spark app\n",
    "spark = SparkSession.builder \\\n",
    "            .master(\"local\") \\\n",
    "            .appName(\"Tref\") \\\n",
    "            .config(\"spark.executor.memory\", \"4g\") \\\n",
    "            .getOrCreate()\n"
   ]
  },
  {
   "cell_type": "code",
   "execution_count": 20,
   "metadata": {},
   "outputs": [],
   "source": [
    "# clean parquet and store as csv\n",
    "path = 'data/2020/monthly/'\n",
    "files = os.listdir(path)\n",
    "\n",
    "with open('data/address500.json') as f:\n",
    "    addressList = json.load(f)\n",
    "\n",
    "for index, file in enumerate(files):\n",
    "    print(file)\n",
    "    df = None\n",
    "    df = spark.read.parquet(os.path.join(path,file))\n",
    "    df = processDataframe(df)\n",
    "    df = renameDataframe(df)\n",
    "    df = df.filter(col('InstallationsID').isin(addressList))\n",
    "    df = df.toPandas()\n",
    "    df['FullAdresses'] = df['FullAdresses'].str.replace(',', ' ')\n",
    "    df.to_csv(os.path.join(path,file[-14:-8]+'.csv'))"
   ]
  }
 ]
}