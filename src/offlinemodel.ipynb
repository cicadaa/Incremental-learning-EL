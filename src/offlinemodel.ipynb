{
 "metadata": {
  "language_info": {
   "codemirror_mode": {
    "name": "ipython",
    "version": 3
   },
   "file_extension": ".py",
   "mimetype": "text/x-python",
   "name": "python",
   "nbconvert_exporter": "python",
   "pygments_lexer": "ipython3",
   "version": "3.8.9"
  },
  "orig_nbformat": 2,
  "kernelspec": {
   "name": "python389jvsc74a57bd0689bdebd65928790df67cee4010d9ecd73550bb05771b7678644a914bc604e3a",
   "display_name": "Python 3.8.9 64-bit ('adba': virtualenvwrapper)"
  }
 },
 "nbformat": 4,
 "nbformat_minor": 2,
 "cells": [
  {
   "cell_type": "code",
   "execution_count": 65,
   "metadata": {},
   "outputs": [],
   "source": [
    "import torch\n",
    "import torch.nn as nn\n",
    "import pandas as pd\n",
    "import numpy as np\n",
    "from numpy.core.fromnumeric import size\n",
    "from sklearn.svm import SVR\n",
    "from torch.optim import Adam\n",
    "from torch.autograd import Variable\n",
    "from sklearn import preprocessing as pre\n",
    "from sklearn.linear_model import SGDRegressor\n",
    "from sklearn.metrics import mean_absolute_percentage_error"
   ]
  },
  {
   "source": [
    "# SVR"
   ],
   "cell_type": "markdown",
   "metadata": {}
  },
  {
   "cell_type": "code",
   "execution_count": 46,
   "metadata": {},
   "outputs": [],
   "source": [
    "def shiftData(from_, to_, feature):\n",
    "    for i in range(from_, to_ + 1):\n",
    "        df['prev_' + feature + str(i)] = df[feature].shift(periods=i)\n",
    "    return df.dropna().copy()"
   ]
  },
  {
   "cell_type": "code",
   "execution_count": 47,
   "metadata": {},
   "outputs": [],
   "source": [
    "dataPath = '/Users/cicada/Documents/DTU_resource/Thesis/Incremental-learning-EL/src/data-withtemp.csv'\n",
    "categoryFeatures=['dayOfYear','hourOfDay', 'dayOfWeek', 'holiday', 'weekend']"
   ]
  },
  {
   "cell_type": "code",
   "execution_count": 60,
   "metadata": {},
   "outputs": [],
   "source": [
    "df = pd.read_csv(dataPath)\n",
    "df = df.sort_values(by=['datetime'])\n",
    "del df['Unnamed: 0']\n",
    "del df['Unnamed: 0.1']\n",
    "del df['temp']"
   ]
  },
  {
   "cell_type": "code",
   "execution_count": 61,
   "metadata": {},
   "outputs": [
    {
     "output_type": "execute_result",
     "data": {
      "text/plain": [
       "              datetime     meter  hourOfDay  dayOfWeek  dayOfYear  holiday  \\\n",
       "0  2019-01-02 00:00:00 -0.778512          0          2          2        0   \n",
       "1  2019-01-02 01:00:00 -1.018446          1          2          2        0   \n",
       "2  2019-01-02 02:00:00 -1.073687          2          2          2        0   \n",
       "3  2019-01-02 03:00:00 -1.175142          3          2          2        0   \n",
       "4  2019-01-02 04:00:00 -0.974736          4          2          2        0   \n",
       "\n",
       "   prev_meter12  prev_meter13  prev_meter14  prev_meter15  prev_meter16  \\\n",
       "0      0.888003      0.773931      0.338515      0.240032     -0.039775   \n",
       "1      0.811891      0.888003      0.773931      0.338515      0.240032   \n",
       "2      0.617414      0.811891      0.888003      0.773931      0.338515   \n",
       "3      0.850153      0.617414      0.811891      0.888003      0.773931   \n",
       "4      1.349519      0.850153      0.617414      0.811891      0.888003   \n",
       "\n",
       "   prev_meter17  prev_meter18  prev_meter19  prev_meter20  prev_meter21  \\\n",
       "0     -0.445899     -0.785941     -0.952268     -1.059915     -0.808519   \n",
       "1     -0.039775     -0.445899     -0.785941     -0.952268     -1.059915   \n",
       "2      0.240032     -0.039775     -0.445899     -0.785941     -0.952268   \n",
       "3      0.338515      0.240032     -0.039775     -0.445899     -0.785941   \n",
       "4      0.773931      0.338515      0.240032     -0.039775     -0.445899   \n",
       "\n",
       "   prev_meter22  prev_meter23  prev_meter24  \n",
       "0     -0.764492     -0.352465     -0.122258  \n",
       "1     -0.808519     -0.764492     -0.352465  \n",
       "2     -1.059915     -0.808519     -0.764492  \n",
       "3     -0.952268     -1.059915     -0.808519  \n",
       "4     -0.785941     -0.952268     -1.059915  "
      ],
      "text/html": "<div>\n<style scoped>\n    .dataframe tbody tr th:only-of-type {\n        vertical-align: middle;\n    }\n\n    .dataframe tbody tr th {\n        vertical-align: top;\n    }\n\n    .dataframe thead th {\n        text-align: right;\n    }\n</style>\n<table border=\"1\" class=\"dataframe\">\n  <thead>\n    <tr style=\"text-align: right;\">\n      <th></th>\n      <th>datetime</th>\n      <th>meter</th>\n      <th>hourOfDay</th>\n      <th>dayOfWeek</th>\n      <th>dayOfYear</th>\n      <th>holiday</th>\n      <th>prev_meter12</th>\n      <th>prev_meter13</th>\n      <th>prev_meter14</th>\n      <th>prev_meter15</th>\n      <th>prev_meter16</th>\n      <th>prev_meter17</th>\n      <th>prev_meter18</th>\n      <th>prev_meter19</th>\n      <th>prev_meter20</th>\n      <th>prev_meter21</th>\n      <th>prev_meter22</th>\n      <th>prev_meter23</th>\n      <th>prev_meter24</th>\n    </tr>\n  </thead>\n  <tbody>\n    <tr>\n      <th>0</th>\n      <td>2019-01-02 00:00:00</td>\n      <td>-0.778512</td>\n      <td>0</td>\n      <td>2</td>\n      <td>2</td>\n      <td>0</td>\n      <td>0.888003</td>\n      <td>0.773931</td>\n      <td>0.338515</td>\n      <td>0.240032</td>\n      <td>-0.039775</td>\n      <td>-0.445899</td>\n      <td>-0.785941</td>\n      <td>-0.952268</td>\n      <td>-1.059915</td>\n      <td>-0.808519</td>\n      <td>-0.764492</td>\n      <td>-0.352465</td>\n      <td>-0.122258</td>\n    </tr>\n    <tr>\n      <th>1</th>\n      <td>2019-01-02 01:00:00</td>\n      <td>-1.018446</td>\n      <td>1</td>\n      <td>2</td>\n      <td>2</td>\n      <td>0</td>\n      <td>0.811891</td>\n      <td>0.888003</td>\n      <td>0.773931</td>\n      <td>0.338515</td>\n      <td>0.240032</td>\n      <td>-0.039775</td>\n      <td>-0.445899</td>\n      <td>-0.785941</td>\n      <td>-0.952268</td>\n      <td>-1.059915</td>\n      <td>-0.808519</td>\n      <td>-0.764492</td>\n      <td>-0.352465</td>\n    </tr>\n    <tr>\n      <th>2</th>\n      <td>2019-01-02 02:00:00</td>\n      <td>-1.073687</td>\n      <td>2</td>\n      <td>2</td>\n      <td>2</td>\n      <td>0</td>\n      <td>0.617414</td>\n      <td>0.811891</td>\n      <td>0.888003</td>\n      <td>0.773931</td>\n      <td>0.338515</td>\n      <td>0.240032</td>\n      <td>-0.039775</td>\n      <td>-0.445899</td>\n      <td>-0.785941</td>\n      <td>-0.952268</td>\n      <td>-1.059915</td>\n      <td>-0.808519</td>\n      <td>-0.764492</td>\n    </tr>\n    <tr>\n      <th>3</th>\n      <td>2019-01-02 03:00:00</td>\n      <td>-1.175142</td>\n      <td>3</td>\n      <td>2</td>\n      <td>2</td>\n      <td>0</td>\n      <td>0.850153</td>\n      <td>0.617414</td>\n      <td>0.811891</td>\n      <td>0.888003</td>\n      <td>0.773931</td>\n      <td>0.338515</td>\n      <td>0.240032</td>\n      <td>-0.039775</td>\n      <td>-0.445899</td>\n      <td>-0.785941</td>\n      <td>-0.952268</td>\n      <td>-1.059915</td>\n      <td>-0.808519</td>\n    </tr>\n    <tr>\n      <th>4</th>\n      <td>2019-01-02 04:00:00</td>\n      <td>-0.974736</td>\n      <td>4</td>\n      <td>2</td>\n      <td>2</td>\n      <td>0</td>\n      <td>1.349519</td>\n      <td>0.850153</td>\n      <td>0.617414</td>\n      <td>0.811891</td>\n      <td>0.888003</td>\n      <td>0.773931</td>\n      <td>0.338515</td>\n      <td>0.240032</td>\n      <td>-0.039775</td>\n      <td>-0.445899</td>\n      <td>-0.785941</td>\n      <td>-0.952268</td>\n      <td>-1.059915</td>\n    </tr>\n  </tbody>\n</table>\n</div>"
     },
     "metadata": {},
     "execution_count": 61
    }
   ],
   "source": [
    "scaler = pre.StandardScaler() \n",
    "scaler.fit(df[df['datetime']< '2020-01-01']['meter'].values.reshape(-1, 1))\n",
    "\n",
    "meter = scaler.transform(df['meter'].values.reshape(-1, 1))\n",
    "df['meter'] = list(meter.ravel())\n",
    "\n",
    "df = shiftData(12, 24, 'meter')\n",
    "df = df.reset_index()\n",
    "del df['index']\n",
    "df.head()"
   ]
  },
  {
   "cell_type": "code",
   "execution_count": 73,
   "metadata": {},
   "outputs": [
    {
     "output_type": "stream",
     "name": "stdout",
     "text": [
      "17400\n8712\n"
     ]
    },
    {
     "output_type": "execute_result",
     "data": {
      "text/plain": [
       "(8712,)"
      ]
     },
     "metadata": {},
     "execution_count": 73
    }
   ],
   "source": [
    "#split train test\n",
    "features = [x for x in data_test.columns if x not in ['meter','datetime']]\n",
    "\n",
    "data_train = df[df['datetime']< '2020-01-01']\n",
    "data_test = df[df['datetime'] >= '2020-01-01']\n",
    "\n",
    "X_train = data_train[features].to_numpy()\n",
    "y_train = data_train['meter'].to_numpy()\n",
    "\n",
    "X_test = data_test[features].to_numpy()\n",
    "y_test = data_test['meter'].to_numpy()\n"
   ]
  },
  {
   "cell_type": "code",
   "execution_count": 74,
   "metadata": {},
   "outputs": [
    {
     "output_type": "execute_result",
     "data": {
      "text/plain": [
       "0.8498857189390776"
      ]
     },
     "metadata": {},
     "execution_count": 74
    }
   ],
   "source": [
    "svr = SVR(kernel='linear', C=10, gamma='auto')\n",
    "svr.fit(X_train, y_train)\n",
    "y_pred = svr.predict(X_test)\n",
    "mape = mean_absolute_percentage_error(y_test, y_pred)\n",
    "print(mape)"
   ]
  },
  {
   "cell_type": "code",
   "execution_count": null,
   "metadata": {},
   "outputs": [],
   "source": []
  },
  {
   "source": [
    "# LSTM"
   ],
   "cell_type": "markdown",
   "metadata": {}
  },
  {
   "cell_type": "code",
   "execution_count": null,
   "metadata": {},
   "outputs": [],
   "source": [
    "class OLSTM(nn.Module):\n",
    "\n",
    "    def __init__(self, num_classes, input_size, hidden_size, num_layers):\n",
    "        super(OLSTM, self).__init__() \n",
    "        self.num_classes = num_classes\n",
    "        self.num_layers = num_layers\n",
    "        self.input_size = input_size\n",
    "        self.hidden_size = hidden_size\n",
    "        \n",
    "        self.lstm = nn.LSTM(input_size=input_size, hidden_size=hidden_size,\n",
    "                            num_layers=num_layers, batch_first=True)\n",
    "        \n",
    "        self.fc = nn.Linear(hidden_size, num_classes)\n",
    "\n",
    "    def forward(self, x):\n",
    "        # print(x.size())\n",
    "        h_0 = Variable(torch.zeros(\n",
    "            self.num_layers, x.size(0), self.hidden_size))\n",
    "        \n",
    "        c_0 = Variable(torch.zeros(\n",
    "            self.num_layers, x.size(0), self.hidden_size))\n",
    "        \n",
    "        # Propagate input through LSTM\n",
    "        ula, (h_out, _) = self.lstm(x, (h_0, c_0))\n",
    "\n",
    "        h_out = h_out.view(-1, self.hidden_size)\n",
    "        \n",
    "        out = self.fc(h_out)\n",
    "        \n",
    "        return out\n",
    "\n",
    "\n",
    "\n",
    "model = model\n",
    "lr = learningRate\n",
    "criterion = torch.nn.MSELoss()    # mean-squared error for regression\n",
    "optimizer = Adam(model.parameters(), lr=lr)\n",
    "\n",
    "for e in epoch_num:\n",
    "    outputs = self.model(X)\n",
    "    self.optimizer.zero_grad()\n",
    "\n",
    "    loss = self.criterion(outputs, y)\n",
    "    loss.backward()\n",
    "    self.optimizer.step()\n"
   ]
  },
  {
   "cell_type": "code",
   "execution_count": null,
   "metadata": {},
   "outputs": [],
   "source": [
    "\n",
    "    def _initDeepData(self):\n",
    "        df = self._readData(self.dataPath)\n",
    "        df = df.sort_values(by=['datetime'])\n",
    "        trainSet = df['meter'].values.reshape(-1, 1)\n",
    "        trainData = self.deepScaler.fit_transform(trainSet)\n",
    "        x, y = self._slidingWindows(trainData)\n",
    "        times = df[self.seqLength+self.lagLength:]['datetime']\n",
    "        # times = times\n",
    "        return x, y, times\n",
    "\n",
    "    \n",
    "    def _slidingWindows(self, data):\n",
    "        x = []\n",
    "        y = []\n",
    "        for i in range(len(data)-self.seqLength-self.lagLength):\n",
    "            _x = data[i:(i+self.seqLength)]\n",
    "            _y = data[i+self.seqLength+self.lagLength]\n",
    "            x.append(_x)\n",
    "            y.append(_y)\n",
    "        return np.array(x),np.array(y)\n",
    "\n",
    "\n",
    "    def _initData(self):\n",
    "        df = self._readData(self.dataPath)\n",
    "        df = df.sort_values(by=['datetime'])\n",
    "        df = self._shiftData(df=df)\n",
    "        df = df.reset_index()\n",
    "        features = [f for f in list(df.columns) if f not in self.removeFeatures]\n",
    "        df = df[features]   \n",
    "        return self._splitData(df)\n",
    "\n",
    "\n",
    "    def _shiftData(self, df):\n",
    "        for i in range(self.shiftRange[0], self.shiftRange[1] + 1):\n",
    "            for f in self.shiftFeatures:\n",
    "                df['prev_' + f + str(i)] = df[f].shift(periods=i)\n",
    "        return df.dropna().copy()\n",
    "\n",
    "\n",
    "    def _splitData(self, df):    \n",
    "        scaleFeatures = [f for f in df.columns if f not in self.categoryFeatures and f not in ['datetime']]\n",
    "        nonscaleFeatures = [f for f in df.columns if f in self.categoryFeatures]\n",
    "        return df[scaleFeatures].copy(), df[nonscaleFeatures].copy(), df['meter'].copy(), df['datetime'].copy()\n",
    "\n",
    "\n",
    "    def _readData(self, dataPath):\n",
    "        try:\n",
    "            df = pd.read_csv(dataPath)\n",
    "        except Exception as e:\n",
    "            logging.error(e)\n",
    "            raise e\n",
    "        return df.dropna()\n"
   ]
  },
  {
   "cell_type": "code",
   "execution_count": null,
   "metadata": {},
   "outputs": [],
   "source": [
    "\n",
    "\n"
   ]
  }
 ]
}